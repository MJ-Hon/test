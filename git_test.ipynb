{
  "nbformat": 4,
  "nbformat_minor": 0,
  "metadata": {
    "colab": {
      "private_outputs": true,
      "provenance": [],
      "authorship_tag": "ABX9TyOG9/KJ0zvvolKO1FkkF92L",
      "include_colab_link": true
    },
    "kernelspec": {
      "name": "python3",
      "display_name": "Python 3"
    },
    "language_info": {
      "name": "python"
    }
  },
  "cells": [
    {
      "cell_type": "markdown",
      "metadata": {
        "id": "view-in-github",
        "colab_type": "text"
      },
      "source": [
        "<a href=\"https://colab.research.google.com/github/MJ-Hon/test/blob/main/%08git_test.ipynb\" target=\"_parent\"><img src=\"https://colab.research.google.com/assets/colab-badge.svg\" alt=\"Open In Colab\"/></a>"
      ]
    },
    {
      "cell_type": "code",
      "execution_count": null,
      "metadata": {
        "id": "Afvlc-QT0DBW"
      },
      "outputs": [],
      "source": [
        "from scipy import linalg\n",
        "import numpy as np\n",
        "my_arr = np.array([[5,1],[2,4]])\n",
        "eg_val, eg_vect = linalg.eig(my_arr)\n",
        "print(\"The Eigenvalues are :\")\n",
        "print(eg_val)\n",
        "print(\"The Eigenvectors are :\")\n",
        "print(eg_vect)"
      ]
    },
    {
      "cell_type": "code",
      "source": [
        "print(eg_vect[:, 0]) "
      ],
      "metadata": {
        "id": "l3ve6hsa0Jby"
      },
      "execution_count": null,
      "outputs": []
    }
  ]
}